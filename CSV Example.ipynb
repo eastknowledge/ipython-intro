{
 "metadata": {
  "name": "",
  "signature": "sha256:96e35271160898d64aa86dee2d180782faca482fa6789d8b0c6bdabad643d7fa"
 },
 "nbformat": 3,
 "nbformat_minor": 0,
 "worksheets": [
  {
   "cells": [
    {
     "cell_type": "heading",
     "level": 1,
     "metadata": {},
     "source": [
      "CSV Example"
     ]
    },
    {
     "cell_type": "markdown",
     "metadata": {},
     "source": [
      "Python provides many useful functions to allow us to open data stored in files. For example, the csv module is one useful module for dealing with many forms of data found in the wild. There are many others."
     ]
    },
    {
     "cell_type": "markdown",
     "metadata": {},
     "source": [
      "----------------"
     ]
    },
    {
     "cell_type": "heading",
     "level": 4,
     "metadata": {},
     "source": [
      "Imports"
     ]
    },
    {
     "cell_type": "code",
     "collapsed": false,
     "input": [
      "import matplotlib.pyplot as plt\n",
      "import csv\n",
      "\n",
      "%matplotlib inline"
     ],
     "language": "python",
     "metadata": {},
     "outputs": [],
     "prompt_number": 1
    },
    {
     "cell_type": "code",
     "collapsed": false,
     "input": [
      "# Let's get a list of available files\n",
      "%ls -1 *.csv"
     ],
     "language": "python",
     "metadata": {},
     "outputs": [
      {
       "output_type": "stream",
       "stream": "stdout",
       "text": [
        "sunspot_num.csv\r\n",
        "WDI_Data_US_China.csv\r\n"
       ]
      }
     ],
     "prompt_number": 2
    },
    {
     "cell_type": "heading",
     "level": 4,
     "metadata": {},
     "source": [
      "Sunspot Data"
     ]
    },
    {
     "cell_type": "code",
     "collapsed": false,
     "input": [
      "# Open up the sunspot data and read out the header\n",
      "sd = open(\"sunspot_num.csv\", \"rb\")\n",
      "csv_reader = csv.DictReader(sd)\n",
      "csv_reader.fieldnames"
     ],
     "language": "python",
     "metadata": {},
     "outputs": [
      {
       "metadata": {},
       "output_type": "pyout",
       "prompt_number": 3,
       "text": [
        "['YEAR', 'MON', 'SSN', 'DEV']"
       ]
      }
     ],
     "prompt_number": 3
    },
    {
     "cell_type": "code",
     "collapsed": false,
     "input": [
      "# Looks like a simple set of data of monthly counts\n",
      "# of sunspot activity. Read the rest of the data and \n",
      "# plot the sunspot data\n",
      "year = []\n",
      "spot = []\n",
      "for row in csv_reader:\n",
      "    year.append(float(row[\"YEAR\"]) + (float(row[\"MON\"]) - 1)/12)\n",
      "    spot.append(float(row[\"SSN\"]))\n",
      "    \n",
      "print \"Found %d points\" % len(year)"
     ],
     "language": "python",
     "metadata": {},
     "outputs": [
      {
       "output_type": "stream",
       "stream": "stdout",
       "text": [
        "Found 3184 points\n"
       ]
      }
     ],
     "prompt_number": 4
    },
    {
     "cell_type": "code",
     "collapsed": false,
     "input": [
      "# Plot the data\n",
      "plt.figure(figsize=(8,4))\n",
      "plt.plot(year, spot)\n",
      "plt.title(\"Sunspot Count\")\n",
      "plt.grid()"
     ],
     "language": "python",
     "metadata": {},
     "outputs": [
      {
       "metadata": {},
       "output_type": "display_data",
       "png": "[encoded data removed]",
       "text": [
        "<matplotlib.figure.Figure at 0x451d690>"
       ]
      }
     ],
     "prompt_number": 5
    },
    {
     "cell_type": "heading",
     "level": 4,
     "metadata": {},
     "source": [
      "Savings Rates"
     ]
    },
    {
     "cell_type": "code",
     "collapsed": false,
     "input": [
      "# Open up the World Bank Data\n",
      "# I had the full data set for the demo, but for the repository, I only \n",
      "# included a scrubbed subset of the data I was using. If you'd like to\n",
      "# use the full data set, you can find it at the link I provide in the\n",
      "# \"Resources\" section.\n",
      "#wd = open(\"WDI_Data.csv\", \"rb\")\n",
      "wd = open(\"WDI_Data_US_China.csv\", \"rb\")\n",
      "csv_reader = csv.DictReader(wd)\n",
      "csv_reader.fieldnames"
     ],
     "language": "python",
     "metadata": {},
     "outputs": [
      {
       "metadata": {},
       "output_type": "pyout",
       "prompt_number": 6,
       "text": [
        "['Country Name',\n",
        " 'Country Code',\n",
        " 'Indicator Name',\n",
        " 'Indicator Code',\n",
        " '1960',\n",
        " '1961',\n",
        " '1962',\n",
        " '1963',\n",
        " '1964',\n",
        " '1965',\n",
        " '1966',\n",
        " '1967',\n",
        " '1968',\n",
        " '1969',\n",
        " '1970',\n",
        " '1971',\n",
        " '1972',\n",
        " '1973',\n",
        " '1974',\n",
        " '1975',\n",
        " '1976',\n",
        " '1977',\n",
        " '1978',\n",
        " '1979',\n",
        " '1980',\n",
        " '1981',\n",
        " '1982',\n",
        " '1983',\n",
        " '1984',\n",
        " '1985',\n",
        " '1986',\n",
        " '1987',\n",
        " '1988',\n",
        " '1989',\n",
        " '1990',\n",
        " '1991',\n",
        " '1992',\n",
        " '1993',\n",
        " '1994',\n",
        " '1995',\n",
        " '1996',\n",
        " '1997',\n",
        " '1998',\n",
        " '1999',\n",
        " '2000',\n",
        " '2001',\n",
        " '2002',\n",
        " '2003',\n",
        " '2004',\n",
        " '2005',\n",
        " '2006',\n",
        " '2007',\n",
        " '2008',\n",
        " '2009',\n",
        " '2010',\n",
        " '2011',\n",
        " '2012',\n",
        " '2013']"
       ]
      }
     ],
     "prompt_number": 6
    },
    {
     "cell_type": "code",
     "collapsed": false,
     "input": [
      "# Looks like rows of data where each row represent an indicator\n",
      "# for a particular country. And we have data that can range\n",
      "# from 1960 to 2013. Let's gather all the rows for USA and China.\n",
      "# Be patient. This requires a little work. We will convert\n",
      "# each row into a dictionary that can be access by field name.\n",
      "usa = []\n",
      "china = []\n",
      "for row in csv_reader:\n",
      "    if row[\"Country Code\"] == \"USA\":\n",
      "        usa.append({f: row[f] for f in csv_reader.fieldnames})\n",
      "    elif row[\"Country Code\"] == \"CHN\":\n",
      "        china.append({f: row[f] for f in csv_reader.fieldnames})"
     ],
     "language": "python",
     "metadata": {},
     "outputs": [],
     "prompt_number": 7
    },
    {
     "cell_type": "code",
     "collapsed": false,
     "input": [
      "# How many indicators are there?\n",
      "print len(usa), len(china)"
     ],
     "language": "python",
     "metadata": {},
     "outputs": [
      {
       "output_type": "stream",
       "stream": "stdout",
       "text": [
        "1334 1334\n"
       ]
      }
     ],
     "prompt_number": 8
    },
    {
     "cell_type": "code",
     "collapsed": false,
     "input": [
      "# Whoa! That's a lot of data. Let's find all the rows that\n",
      "# have something to do with savings.\n",
      "usa_saving = []\n",
      "for row in usa:\n",
      "    if row[\"Indicator Name\"].lower().find(\"savings\") != -1:\n",
      "        usa_saving.append(row)\n",
      "\n",
      "china_saving = []\n",
      "for row in china:\n",
      "    if row[\"Indicator Name\"].lower().find(\"savings\") != -1:\n",
      "        china_saving.append(row)\n",
      "        \n",
      "print len(usa_saving), len(china_saving)"
     ],
     "language": "python",
     "metadata": {},
     "outputs": [
      {
       "output_type": "stream",
       "stream": "stdout",
       "text": [
        "30 30\n"
       ]
      }
     ],
     "prompt_number": 9
    },
    {
     "cell_type": "code",
     "collapsed": false,
     "input": [
      "# That's better. Let's print out the savings indicators.\n",
      "for s in usa_saving:\n",
      "    print s[\"Indicator Name\"], \", \", s[\"Indicator Code\"]"
     ],
     "language": "python",
     "metadata": {},
     "outputs": [
      {
       "output_type": "stream",
       "stream": "stdout",
       "text": [
        "Adjusted net savings, excluding particulate emission damage (% of GNI) ,  NY.ADJ.SVNX.GN.ZS\n",
        "Adjusted net savings, excluding particulate emission damage (current US$) ,  NY.ADJ.SVNX.CD\n",
        "Adjusted net savings, including particulate emission damage (% of GNI) ,  NY.ADJ.SVNG.GN.ZS\n",
        "Adjusted net savings, including particulate emission damage (current US$) ,  NY.ADJ.SVNG.CD\n",
        "Adjusted savings: carbon dioxide damage (% of GNI) ,  NY.ADJ.DCO2.GN.ZS\n",
        "Adjusted savings: carbon dioxide damage (current US$) ,  NY.ADJ.DCO2.CD\n",
        "Adjusted savings: consumption of fixed capital (% of GNI) ,  NY.ADJ.DKAP.GN.ZS\n",
        "Adjusted savings: consumption of fixed capital (current US$) ,  NY.ADJ.DKAP.CD\n",
        "Adjusted savings: education expenditure (% of GNI) ,  NY.ADJ.AEDU.GN.ZS\n",
        "Adjusted savings: education expenditure (current US$) ,  NY.ADJ.AEDU.CD\n",
        "Adjusted savings: energy depletion (% of GNI) ,  NY.ADJ.DNGY.GN.ZS\n",
        "Adjusted savings: energy depletion (current US$) ,  NY.ADJ.DNGY.CD\n",
        "Adjusted savings: gross savings (% of GNI) ,  NY.ADJ.ICTR.GN.ZS\n",
        "Adjusted savings: mineral depletion (% of GNI) ,  NY.ADJ.DMIN.GN.ZS\n",
        "Adjusted savings: mineral depletion (current US$) ,  NY.ADJ.DMIN.CD\n",
        "Adjusted savings: natural resources depletion (% of GNI) ,  NY.ADJ.DRES.GN.ZS\n",
        "Adjusted savings: net forest depletion (% of GNI) ,  NY.ADJ.DFOR.GN.ZS\n",
        "Adjusted savings: net forest depletion (current US$) ,  NY.ADJ.DFOR.CD\n",
        "Adjusted savings: net national savings (% of GNI) ,  NY.ADJ.NNAT.GN.ZS\n",
        "Adjusted savings: net national savings (current US$) ,  NY.ADJ.NNAT.CD\n",
        "Adjusted savings: particulate emission damage (% of GNI) ,  NY.ADJ.DPEM.GN.ZS\n",
        "Adjusted savings: particulate emission damage (current US$) ,  NY.ADJ.DPEM.CD\n",
        "Gross domestic savings (% of GDP) ,  NY.GDS.TOTL.ZS\n",
        "Gross domestic savings (constant LCU) ,  NY.GDS.TOTL.KN\n",
        "Gross domestic savings (current LCU) ,  NY.GDS.TOTL.CN\n",
        "Gross domestic savings (current US$) ,  NY.GDS.TOTL.CD\n",
        "Gross savings (% of GDP) ,  NY.GNS.ICTR.ZS\n",
        "Gross savings (% of GNI) ,  NY.GNS.ICTR.GN.ZS\n",
        "Gross savings (current LCU) ,  NY.GNS.ICTR.CN\n",
        "Gross savings (current US$) ,  NY.GNS.ICTR.CD\n"
       ]
      }
     ],
     "prompt_number": 10
    },
    {
     "cell_type": "code",
     "collapsed": false,
     "input": [
      "# Let's look at \"Gross savings (% of GDP)\"\n",
      "# Using the Indicator Code\n",
      "usa_year = []\n",
      "usa_rate = []\n",
      "for s in usa_saving:\n",
      "    if s[\"Indicator Code\"] == \"NY.GNS.ICTR.ZS\":\n",
      "        for Y in range(1960, 2014):\n",
      "            # Ignore years without data\n",
      "            if len(s[str(Y)]):\n",
      "                usa_year.append(Y)\n",
      "                usa_rate.append(float(s[str(Y)]))\n",
      "\n",
      "china_year = []\n",
      "china_rate = []\n",
      "for s in china_saving:\n",
      "    if s[\"Indicator Code\"] == \"NY.GNS.ICTR.ZS\":\n",
      "        for Y in range(1960, 2014):\n",
      "            # Ignore years without data\n",
      "            if len(s[str(Y)]):\n",
      "                china_year.append(Y)\n",
      "                china_rate.append(float(s[str(Y)]))\n",
      "                \n",
      "plt.figure(figsize=(8,4))\n",
      "plt.title(\"Gross savings (% of GDP)\")\n",
      "plt.plot(usa_year, usa_rate, china_year, china_rate)\n",
      "plt.grid()"
     ],
     "language": "python",
     "metadata": {},
     "outputs": [
      {
       "metadata": {},
       "output_type": "display_data",
       "png": "[encoded data removed]",
       "text": [
        "<matplotlib.figure.Figure at 0x525ebd0>"
       ]
      }
     ],
     "prompt_number": 11
    },
    {
     "cell_type": "heading",
     "level": 1,
     "metadata": {},
     "source": [
      "Resources"
     ]
    },
    {
     "cell_type": "markdown",
     "metadata": {},
     "source": [
      "Data collected from:\n",
      "<html>\n",
      "<table>\n",
      "<tr><td>sunspot_num.csv</td><td>http://solarscience.msfc.nasa.gov/SunspotCycle.shtml</td></tr>\n",
      "<trd><td>WDI_Data_US_China.csv</td><td>http://data.worldbank.org/data-catalog/world-development-indicators?cid=GPD_WDI</td></tr>\n",
      "</table>\n",
      "</html>"
     ]
    },
    {
     "cell_type": "heading",
     "level": 1,
     "metadata": {},
     "source": [
      "Copyright Notice"
     ]
    },
    {
     "cell_type": "markdown",
     "metadata": {},
     "source": [
      "<html>\n",
      "<p xmlns:dct=\"http://purl.org/dc/terms/\" xmlns:vcard=\"http://www.w3.org/2001/vcard-rdf/3.0#\">\n",
      "  <a rel=\"license\"\n",
      "     href=\"http://creativecommons.org/publicdomain/zero/1.0/\">\n",
      "    <img src=\"CC0-88x31.png\" style=\"border-style: none;\" alt=\"CC0\" />\n",
      "  </a>\n",
      "  <br />\n",
      "  To the extent possible under law,\n",
      "  <a rel=\"dct:publisher\"\n",
      "     href=\"http://charles.stanho.pe\">\n",
      "    <span property=\"dct:title\">Charles Stanhope</span></a>\n",
      "  has waived all copyright and related or neighboring rights to\n",
      "  <i><span property=\"dct:title\">CSV Example</span></i>.\n",
      "This work is published from:\n",
      "<span property=\"vcard:Country\" datatype=\"dct:ISO3166\"\n",
      "      content=\"US\" about=\"http://charles.stanho.pe\">\n",
      "  United States</span>.\n",
      "</p>\n",
      "</html>"
     ]
    },
    {
     "cell_type": "code",
     "collapsed": false,
     "input": [],
     "language": "python",
     "metadata": {},
     "outputs": [],
     "prompt_number": 11
    }
   ],
   "metadata": {}
  }
 ]
}